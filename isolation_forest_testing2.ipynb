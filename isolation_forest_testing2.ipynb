{
  "nbformat": 4,
  "nbformat_minor": 0,
  "metadata": {
    "colab": {
      "provenance": [],
      "authorship_tag": "ABX9TyNWR+N4gHikPbG0MaiiDMNR",
      "include_colab_link": true
    },
    "kernelspec": {
      "name": "python3",
      "display_name": "Python 3"
    },
    "language_info": {
      "name": "python"
    }
  },
  "cells": [
    {
      "cell_type": "markdown",
      "metadata": {
        "id": "view-in-github",
        "colab_type": "text"
      },
      "source": [
        "<a href=\"https://colab.research.google.com/github/jcallaghan2020/Human-Genome-Analysis/blob/main/isolation_forest_testing2.ipynb\" target=\"_parent\"><img src=\"https://colab.research.google.com/assets/colab-badge.svg\" alt=\"Open In Colab\"/></a>"
      ]
    },
    {
      "cell_type": "code",
      "execution_count": null,
      "metadata": {
        "colab": {
          "base_uri": "https://localhost:8080/"
        },
        "id": "L25l0lPAD7gs",
        "outputId": "c1f22833-8cc3-41b6-a064-fd560be1e955"
      },
      "outputs": [
        {
          "output_type": "stream",
          "name": "stdout",
          "text": [
            "Looking in indexes: https://pypi.org/simple, https://us-python.pkg.dev/colab-wheels/public/simple/\n",
            "Requirement already satisfied: scikit-allel in /usr/local/lib/python3.7/dist-packages (1.3.5)\n",
            "Requirement already satisfied: dask[array] in /usr/local/lib/python3.7/dist-packages (from scikit-allel) (2.12.0)\n",
            "Requirement already satisfied: numpy in /usr/local/lib/python3.7/dist-packages (from scikit-allel) (1.21.6)\n",
            "Requirement already satisfied: toolz>=0.7.3 in /usr/local/lib/python3.7/dist-packages (from dask[array]->scikit-allel) (0.11.2)\n",
            "1.3.5\n",
            "Drive already mounted at /content/drive; to attempt to forcibly remount, call drive.mount(\"/content/drive\", force_remount=True).\n"
          ]
        }
      ],
      "source": [
        "import numpy as np\n",
        "import pandas as pd\n",
        "import statistics as stat\n",
        "from pandas import DataFrame as df, Series\n",
        "import matplotlib.pyplot as plt\n",
        "from scipy.stats import kurtosis\n",
        "from scipy.stats import skew\n",
        "from __future__ import division\n",
        "import seaborn as sns\n",
        "sns.set(style='ticks', palette='Set2')\n",
        "%matplotlib inline\n",
        "\n",
        "\n",
        "# import scikit-allel\n",
        "!pip install scikit-allel\n",
        "import allel\n",
        "# check which version is installed\n",
        "print(allel.__version__)\n",
        "\n",
        "\n",
        "import os\n",
        "\n",
        "# Mount Google Drive\n",
        "from google.colab import drive\n",
        "drive.mount('/content/drive')\n",
        "\n",
        "#this is the 2nd file, to run this code you need to upload the file to your drive and change the name to match ( CEU22.gt.snps.poly.nomissing (1) ),\n",
        "#or change the code to what yours is named\n",
        "test_sample = allel.read_vcf('/content/drive/MyDrive/CEU22.gt.snps.poly.nomissing (1).vcf.gz')\n",
        "gt_test = allel.GenotypeArray(test_sample['calldata/GT'])\n",
        "het_count = gt_test.count_het()"
      ]
    },
    {
      "cell_type": "code",
      "source": [
        "from sklearn.ensemble import IsolationForest\n",
        "#trying to do mean\n",
        "mean_lst = []\n",
        "f_het_rate_lst = []\n",
        "count = 0\n",
        "hom_rate = 0\n",
        "het_rate = 0\n",
        "hom_rate2 = 0\n",
        "het_rate2 = 0\n",
        "\n",
        "#calc mean rate for individual sections\n",
        "#het = different allele values (1/0 or 0/1), hom = same allele values (0/0 or 1/1)\n",
        "for i in gt_test[0:]:\n",
        "  i_lst = i.tolist()\n",
        "  for n in i_lst:\n",
        "    if n == [0, 0] or n == [1, 1]:\n",
        "      count = count + 1\n",
        "      hom_rate = hom_rate + 1\n",
        "    if n == [1, 0] or n == [0, 1]:\n",
        "      count = count + 1\n",
        "      het_rate = het_rate + 1\n",
        "    if count == 10000:    #divide into sections of 100 samples (size might need to change)\n",
        "      f_het_rate = het_rate / (het_rate + hom_rate) #calculate ratio of heterozygous alleles\n",
        "      f_het_rate_lst.append(f_het_rate) #add ratio to list\n",
        "      hom_rate = 0\n",
        "      het_rate = 0\n",
        "      f_het_rate = 0\n",
        "      count = 0\n",
        "      mean = stat.mean(f_het_rate_lst)\n",
        "      mean_lst.append(mean)\n",
        "      f_het_rate_lst = []\n",
        "      mean = 0\n",
        "      "
      ],
      "metadata": {
        "id": "nsEEQ_K-EgVD"
      },
      "execution_count": null,
      "outputs": []
    },
    {
      "cell_type": "code",
      "source": [
        "mean_arr = np.array(mean_lst)\n",
        "mean_arr = mean_arr.reshape(-1, 1)\n",
        "n = int(len(mean_arr) / 10)\n",
        "model=IsolationForest(n_estimators= n , max_samples='auto', contamination=float(0.05),max_features=1.0)\n",
        "model.fit(mean_arr)\n",
        "len(mean_arr)"
      ],
      "metadata": {
        "colab": {
          "base_uri": "https://localhost:8080/"
        },
        "id": "e0EwFh8fEnp7",
        "outputId": "b33ea5f5-2bae-413b-f120-6a30dca72163"
      },
      "execution_count": null,
      "outputs": [
        {
          "output_type": "execute_result",
          "data": {
            "text/plain": [
              "1740"
            ]
          },
          "metadata": {},
          "execution_count": 88
        }
      ]
    },
    {
      "cell_type": "code",
      "source": [
        "anomaly_score = model.decision_function(mean_arr)\n",
        "anomaly_decision = model.predict(mean_arr)\n"
      ],
      "metadata": {
        "id": "c-Hn6mkDFVEM"
      },
      "execution_count": null,
      "outputs": []
    },
    {
      "cell_type": "code",
      "source": [
        "# filter outlier index\n",
        "from numpy import where\n",
        "outlier_index = where(anomaly_decision == -1) \n",
        "# these are values where an outlier was predicted. An anomalous region should be where multiple outliers are near each other.\n",
        "outlier_index"
      ],
      "metadata": {
        "colab": {
          "base_uri": "https://localhost:8080/"
        },
        "id": "KBEKVwHOF8jj",
        "outputId": "9b5e5f4b-feb2-47db-9c19-1b8d1f641b85"
      },
      "execution_count": null,
      "outputs": [
        {
          "output_type": "execute_result",
          "data": {
            "text/plain": [
              "(array([  14,   15,   55,   81,  186,  262,  267,  276,  281,  283,  293,\n",
              "         294,  295,  324,  325,  347,  370,  375,  390,  394,  417,  436,\n",
              "         453,  466,  467,  468,  469,  470,  471,  472,  626,  632,  695,\n",
              "         736,  741,  743,  749,  761,  766,  772,  773,  774,  821,  829,\n",
              "         840,  877,  886,  887,  888,  916,  921,  928,  929,  958,  964,\n",
              "         965,  966,  969,  970,  977,  978,  980,  981, 1031, 1050, 1091,\n",
              "        1106, 1107, 1117, 1122, 1181, 1205, 1231, 1252, 1268, 1334, 1349,\n",
              "        1350, 1354, 1355, 1401, 1467, 1472, 1500, 1595, 1620, 1628]),)"
            ]
          },
          "metadata": {},
          "execution_count": 90
        }
      ]
    },
    {
      "cell_type": "code",
      "source": [
        "#returns regions where 3 straight outliers are predicted. Should return areas in the mid to late 80s.\n",
        "for i in range(len(anomaly_decision)-2):\n",
        "  \n",
        "    # checking the conditions\n",
        "    if anomaly_decision[i] == anomaly_decision[i + 1] and anomaly_decision[i + 1] == anomaly_decision[i + 2] and anomaly_decision[i] == -1:\n",
        "  \n",
        "        # printing the element as the \n",
        "        # conditions are satisfied \n",
        "        print('Anomalous regions found: ',i, i+1, i+2)"
      ],
      "metadata": {
        "colab": {
          "base_uri": "https://localhost:8080/"
        },
        "id": "_mU9NBEcGJWf",
        "outputId": "a0054250-7864-438c-93be-e3d8d3fe9934"
      },
      "execution_count": null,
      "outputs": [
        {
          "output_type": "stream",
          "name": "stdout",
          "text": [
            "Anomalous regions found:  293 294 295\n",
            "Anomalous regions found:  466 467 468\n",
            "Anomalous regions found:  467 468 469\n",
            "Anomalous regions found:  468 469 470\n",
            "Anomalous regions found:  469 470 471\n",
            "Anomalous regions found:  470 471 472\n",
            "Anomalous regions found:  772 773 774\n",
            "Anomalous regions found:  886 887 888\n",
            "Anomalous regions found:  964 965 966\n"
          ]
        }
      ]
    },
    {
      "cell_type": "code",
      "source": [
        "#returns regions where 3 straight outliers are predicted. (this loop is for plotting only anomalies)\n",
        "for i in range(len(anomaly_decision)-2):\n",
        "  \n",
        "    # checking the conditions\n",
        "    if anomaly_decision[i] == anomaly_decision[i + 1] and anomaly_decision[i + 1] == anomaly_decision[i + 2] and anomaly_decision[i] == -1:\n",
        "  \n",
        "        # printing the element as the \n",
        "        # conditions are satisfied \n",
        "        print('Anomalous regions found: ', i, i+1, i+2)\n",
        "\n",
        "    else:\n",
        "      anomaly_decision[i] = 1"
      ],
      "metadata": {
        "colab": {
          "base_uri": "https://localhost:8080/"
        },
        "id": "-C0dP8abHiSB",
        "outputId": "ee093ec6-c90d-404c-e7af-3e64417be3e1"
      },
      "execution_count": null,
      "outputs": [
        {
          "output_type": "stream",
          "name": "stdout",
          "text": [
            "Anomalous regions found:  293 294 295\n",
            "Anomalous regions found:  466 467 468\n",
            "Anomalous regions found:  467 468 469\n",
            "Anomalous regions found:  468 469 470\n",
            "Anomalous regions found:  469 470 471\n",
            "Anomalous regions found:  470 471 472\n",
            "Anomalous regions found:  772 773 774\n",
            "Anomalous regions found:  886 887 888\n",
            "Anomalous regions found:  964 965 966\n"
          ]
        }
      ]
    },
    {
      "cell_type": "code",
      "source": [
        "x = range(len(anomaly_decision))\n",
        "plt.scatter(x, anomaly_decision)\n",
        "plt.show()"
      ],
      "metadata": {
        "colab": {
          "base_uri": "https://localhost:8080/",
          "height": 268
        },
        "id": "JohuHoAgGVw4",
        "outputId": "841cb598-30e4-4b29-848e-f2f99d2e33c8"
      },
      "execution_count": null,
      "outputs": [
        {
          "output_type": "display_data",
          "data": {
            "text/plain": [
              "<Figure size 432x288 with 1 Axes>"
            ],
            "image/png": "[encoded data removed]"
          },
          "metadata": {
            "needs_background": "light"
          }
        }
      ]
    }
  ]
}